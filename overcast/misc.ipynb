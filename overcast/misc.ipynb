{
 "cells": [
  {
   "cell_type": "code",
   "execution_count": 1,
   "id": "a13223ad-6ea4-4a3a-a09a-1b69bf730f4f",
   "metadata": {},
   "outputs": [],
   "source": [
    "import os\n",
    "import pandas as pd"
   ]
  },
  {
   "cell_type": "code",
   "execution_count": 2,
   "id": "13b3c67c-3abf-49a3-a8b7-065b0029f3fd",
   "metadata": {},
   "outputs": [],
   "source": [
    "os.chdir('/home/users/msolal/msc-project/overcast/overcast')"
   ]
  },
  {
   "cell_type": "code",
   "execution_count": 3,
   "id": "482cf112-04a6-4a71-9fa9-315127001ae7",
   "metadata": {},
   "outputs": [],
   "source": [
    "lr = pd.read_csv('data/four_outputs_liqcf_pacific.csv')\n",
    "hr = pd.read_csv('data/MERRA_25kmres_2003.csv')"
   ]
  },
  {
   "cell_type": "code",
   "execution_count": 4,
   "id": "8eae5190-bc35-4258-b12c-beec135c6c15",
   "metadata": {},
   "outputs": [
    {
     "data": {
      "text/plain": [
       "Index(['Unnamed: 0', 'tot_aod', 'tot_ai', 'RH700', 'RH850', 'RH900', 'EIS',\n",
       "       'LTS', 'whoi_sst', 'l_re', 'w500', 'cwp', 'cod', 'liq_pc', 'precip',\n",
       "       'lats', 'lons', 'timestamp'],\n",
       "      dtype='object')"
      ]
     },
     "execution_count": 4,
     "metadata": {},
     "output_type": "execute_result"
    }
   ],
   "source": [
    "lr.columns"
   ]
  },
  {
   "cell_type": "code",
   "execution_count": 5,
   "id": "e26c4de1-c6cb-430e-ba88-c1daa4434651",
   "metadata": {},
   "outputs": [
    {
     "data": {
      "text/plain": [
       "Index(['Unnamed: 0', 'Unnamed: 0.1', 'MERRA_RH700', 'MERRA_RH850',\n",
       "       'MERRA_RH950', 'MERRA_T700', 'MERRA_LTS', 'MERRA_U10M', 'MERRA_V10M',\n",
       "       'MERRA_W500', 'MERRA_aod', 'imerg_precip', 'imerg_precip_T30',\n",
       "       'imerg_precip_T60', 'cloud_top_height_1km', 'ERA_sst',\n",
       "       'Cloud_Effective_Radius', 'Cloud_Optical_Thickness', 'Cloud_Water_Path',\n",
       "       'cf', 'lats', 'lons', 'dates', 'cloud_top_temperature_1km', 'Nd'],\n",
       "      dtype='object')"
      ]
     },
     "execution_count": 5,
     "metadata": {},
     "output_type": "execute_result"
    }
   ],
   "source": [
    "hr.columns"
   ]
  },
  {
   "cell_type": "code",
   "execution_count": 6,
   "id": "1066efe6-51f8-48c4-a4c3-18fc5ba64acd",
   "metadata": {},
   "outputs": [
    {
     "data": {
      "text/plain": [
       "0          2003-01-01 13:30:00\n",
       "1          2003-01-01 13:30:00\n",
       "2          2003-01-01 13:30:00\n",
       "3          2003-01-01 13:30:00\n",
       "4          2003-01-01 13:30:00\n",
       "                  ...         \n",
       "1879395    2003-08-01 23:40:00\n",
       "1879396    2003-08-01 23:40:00\n",
       "1879397    2003-08-01 23:40:00\n",
       "1879398    2003-08-01 23:40:00\n",
       "1879399    2003-08-01 23:40:00\n",
       "Name: dates, Length: 1879400, dtype: object"
      ]
     },
     "execution_count": 6,
     "metadata": {},
     "output_type": "execute_result"
    }
   ],
   "source": [
    "hr['dates']"
   ]
  },
  {
   "cell_type": "code",
   "execution_count": null,
   "id": "a48babe3-4429-442e-95ff-8ed04e58ca80",
   "metadata": {},
   "outputs": [],
   "source": []
  }
 ],
 "metadata": {
  "kernelspec": {
   "display_name": "overcast",
   "language": "python",
   "name": "overcast"
  },
  "language_info": {
   "codemirror_mode": {
    "name": "ipython",
    "version": 3
   },
   "file_extension": ".py",
   "mimetype": "text/x-python",
   "name": "python",
   "nbconvert_exporter": "python",
   "pygments_lexer": "ipython3",
   "version": "3.9.0"
  }
 },
 "nbformat": 4,
 "nbformat_minor": 5
}
